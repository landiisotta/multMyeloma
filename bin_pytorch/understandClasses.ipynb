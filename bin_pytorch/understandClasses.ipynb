{
 "cells": [
  {
   "cell_type": "markdown",
   "metadata": {},
   "source": [
    "# Classes in Python\n",
    "\n",
    "Stupid example to understand how classes work and how they can be built. We may want to create a class `Pet`, with attributes `name`, for the pet's name and `species`, for its species."
   ]
  },
  {
   "cell_type": "code",
   "execution_count": 26,
   "metadata": {},
   "outputs": [],
   "source": [
    "class Pet(object):\n",
    "    \n",
    "    def __init__(self, name, species):\n",
    "        self.name = name\n",
    "        self.species = species \n",
    "        \n",
    "    def getName(self):\n",
    "        return self.name\n",
    "    def getSpecies(self):\n",
    "        return self.species\n",
    "    \n",
    "    def __str__(self):\n",
    "        return \"%s is a %s\" % (self.name, self.species)\n",
    "    \n",
    "##SUBCLASS DOG\n",
    "class Dog(object):\n",
    "    \n",
    "    def __init__(self, name, chases_cats):\n",
    "        Pet.__init__(self, name, \"Dog\")\n",
    "        self.chases_cats = chases_cats\n",
    "        \n",
    "    def chasesCats(self):\n",
    "        return self.chases_cats\n",
    "    \n",
    "##SUBCLASS CAT\n",
    "class Cat(object):\n",
    "    \n",
    "    def __init__(self, name, hates_dogs):\n",
    "        Pet.__init__(self, name, \"Cat\")\n",
    "        self.hates_dogs = hates_dogs\n",
    "    \n",
    "    def hatesDogs(self):\n",
    "        return self.hates_dogs\n",
    "    \n",
    "    def __str__(self):\n",
    "        return Pet.__str__(self)"
   ]
  },
  {
   "cell_type": "markdown",
   "metadata": {},
   "source": [
    "A `Class` allows us to create objects with a specific structure. \n",
    "1. The _instances_ of a class are a copy of the class, with the same structure, but with specific values stored. Instances of a class all have the same structure, but differ in their contents. \n",
    "\n",
    "2. _Methods_ of a class are the functions defined in the class. \n",
    "\n",
    "3. _Attributes_ of a class are the field that need to be initialized for each instance in order to store specific information with a predefined structure.\n",
    "\n",
    "If we want to define a `Pet` class in which each instance has a name for the pet's name and a species, we start with:\n",
    "\n",
    "```\n",
    "class Pet(object):\n",
    "```\n",
    "\n",
    "This define a class named `Pet`, we can observe that `object` is the class inherited by our new pet class. \n",
    "\n",
    "```\n",
    "    def __init__(self, name, species):\n",
    "        self.name = name\n",
    "        self.species = species\n",
    "```\n",
    "\n",
    "The `__init__` method is the function that is called when an instance is created. It allows us to initialize all the instances' name and species attributes. The variable `self` is the instance of the class and is automatically figured out, there is no need to specify it.\n",
    "\n",
    "We can now initialize a new instance:\n",
    "\n",
    "```\n",
    "polly = Pet(\"Polly\", \"Parrot\")\n",
    "```\n",
    "\n",
    "and access to its attributes `polly.name` and `polly.species`.\n",
    "\n",
    "Always inside the pet class, we can define other methods, such as:\n",
    "\n",
    "```\n",
    "    def getName(self):\n",
    "        return self.name\n",
    "    def getSpecies(self):\n",
    "        return self.species\n",
    "```\n",
    "\n",
    "In this way we can call the functions `Pet.getName(polly) | polly.getName()` and `Pet.getSpecies(polly) | polly.getSpecies`. We can observe that when the instance is specified (in this case `polly`) there is no need to tell the function what `self` is. On the other hand, if we do not sepcify the instance, and call the method from the class `Pet`, then the `self` variable should be call as`polly`.\n",
    "\n",
    "Now, if we want to define what the `print` method shoud do for the `Pet` class, then we need to define:\n",
    "```\n",
    "    def __str__(self):\n",
    "        return(\"%s is a %s\" % (self.name, self.species))\n",
    "```\n",
    "\n",
    "Let us suppose now that we want to initiate a dog pet called Fido who hates cats. We can create a subclass as follows:\n",
    "```\n",
    "def Dog(object):\n",
    "    \n",
    "    def __init__(self, name, hates_cats):\n",
    "        Pet.__init__(self, name, \"Dog\") #it inherits the attributes from Pet, with species predefined as \"Dog\"\n",
    "        self.hates_cates = hates_cats\n",
    "    def hatesCats(self):\n",
    "        return self.hates_cats\n",
    "    def __str__(self):\n",
    "        return Pet.__str__(self)\n",
    "```\n",
    "This subclass has the same structure as Pet, with added the `hates_cats` attribute. Moreover, since this is the subclass `Dog`, the species can be predefined and not added to each instance of class `Dog`. Then we pass the variables `self`, `name` and `hates_cats` to the `__init__` method and we call the attributes from the `Pet.__init__` method, with `species = \"Dog\"`. Also the `print` function is inherited by `Pet` class."
   ]
  },
  {
   "cell_type": "code",
   "execution_count": 5,
   "metadata": {},
   "outputs": [],
   "source": [
    "polly = Pet(\"Polly\", \"Parrot\")"
   ]
  },
  {
   "cell_type": "code",
   "execution_count": 6,
   "metadata": {},
   "outputs": [
    {
     "data": {
      "text/plain": [
       "'Polly'"
      ]
     },
     "execution_count": 6,
     "metadata": {},
     "output_type": "execute_result"
    }
   ],
   "source": [
    "polly.getName()"
   ]
  },
  {
   "cell_type": "code",
   "execution_count": 7,
   "metadata": {},
   "outputs": [
    {
     "data": {
      "text/plain": [
       "'Parrot'"
      ]
     },
     "execution_count": 7,
     "metadata": {},
     "output_type": "execute_result"
    }
   ],
   "source": [
    "polly.getSpecies()"
   ]
  },
  {
   "cell_type": "code",
   "execution_count": 8,
   "metadata": {},
   "outputs": [
    {
     "data": {
      "text/plain": [
       "'Polly'"
      ]
     },
     "execution_count": 8,
     "metadata": {},
     "output_type": "execute_result"
    }
   ],
   "source": [
    "Pet.getName(polly)"
   ]
  },
  {
   "cell_type": "code",
   "execution_count": 9,
   "metadata": {},
   "outputs": [
    {
     "data": {
      "text/plain": [
       "'Parrot'"
      ]
     },
     "execution_count": 9,
     "metadata": {},
     "output_type": "execute_result"
    }
   ],
   "source": [
    "Pet.getSpecies(polly)"
   ]
  },
  {
   "cell_type": "code",
   "execution_count": 10,
   "metadata": {},
   "outputs": [
    {
     "name": "stdout",
     "output_type": "stream",
     "text": [
      "Polly is a Parrot\n"
     ]
    }
   ],
   "source": [
    "print(polly)"
   ]
  },
  {
   "cell_type": "code",
   "execution_count": 14,
   "metadata": {},
   "outputs": [],
   "source": [
    "fido = Dog(\"fido\", \"True\")"
   ]
  },
  {
   "cell_type": "code",
   "execution_count": 19,
   "metadata": {},
   "outputs": [
    {
     "data": {
      "text/plain": [
       "'True'"
      ]
     },
     "execution_count": 19,
     "metadata": {},
     "output_type": "execute_result"
    }
   ],
   "source": [
    "fido.chasesCats()"
   ]
  },
  {
   "cell_type": "code",
   "execution_count": 27,
   "metadata": {},
   "outputs": [],
   "source": [
    "chicca = Cat('chicca', 'False')"
   ]
  },
  {
   "cell_type": "code",
   "execution_count": 31,
   "metadata": {},
   "outputs": [
    {
     "data": {
      "text/plain": [
       "'False'"
      ]
     },
     "execution_count": 31,
     "metadata": {},
     "output_type": "execute_result"
    }
   ],
   "source": [
    "chicca.hates_dogs"
   ]
  },
  {
   "cell_type": "code",
   "execution_count": 29,
   "metadata": {},
   "outputs": [
    {
     "name": "stdout",
     "output_type": "stream",
     "text": [
      "chicca is a Cat\n"
     ]
    }
   ],
   "source": [
    "print(chicca)"
   ]
  },
  {
   "cell_type": "code",
   "execution_count": 32,
   "metadata": {},
   "outputs": [],
   "source": [
    "class Pet(object):\n",
    "    \n",
    "    def __init__(self, name, species):\n",
    "        self.name = name\n",
    "        self.species = species "
   ]
  },
  {
   "cell_type": "code",
   "execution_count": 33,
   "metadata": {},
   "outputs": [],
   "source": [
    "polly = Pet(\"Polly\", \"Parrot\")"
   ]
  },
  {
   "cell_type": "code",
   "execution_count": 34,
   "metadata": {},
   "outputs": [
    {
     "data": {
      "text/plain": [
       "'Polly'"
      ]
     },
     "execution_count": 34,
     "metadata": {},
     "output_type": "execute_result"
    }
   ],
   "source": [
    "polly.name"
   ]
  },
  {
   "cell_type": "code",
   "execution_count": 35,
   "metadata": {},
   "outputs": [
    {
     "data": {
      "text/plain": [
       "'Parrot'"
      ]
     },
     "execution_count": 35,
     "metadata": {},
     "output_type": "execute_result"
    }
   ],
   "source": [
    "polly.species"
   ]
  },
  {
   "cell_type": "code",
   "execution_count": 36,
   "metadata": {},
   "outputs": [
    {
     "name": "stdout",
     "output_type": "stream",
     "text": [
      "<__main__.Pet object at 0x7fae189e6358>\n"
     ]
    }
   ],
   "source": [
    "print(polly)"
   ]
  },
  {
   "cell_type": "code",
   "execution_count": null,
   "metadata": {},
   "outputs": [],
   "source": []
  }
 ],
 "metadata": {
  "kernelspec": {
   "display_name": "Python 3",
   "language": "python",
   "name": "python3"
  },
  "language_info": {
   "codemirror_mode": {
    "name": "ipython",
    "version": 3
   },
   "file_extension": ".py",
   "mimetype": "text/x-python",
   "name": "python",
   "nbconvert_exporter": "python",
   "pygments_lexer": "ipython3",
   "version": "3.5.2"
  }
 },
 "nbformat": 4,
 "nbformat_minor": 2
}

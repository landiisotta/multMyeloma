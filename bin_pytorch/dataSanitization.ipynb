{
 "cells": [
  {
   "cell_type": "code",
   "execution_count": 1,
   "metadata": {},
   "outputs": [],
   "source": [
    "import pandas as pd\n",
    "import os\n",
    "import re\n",
    "import csv"
   ]
  },
  {
   "cell_type": "code",
   "execution_count": 2,
   "metadata": {},
   "outputs": [],
   "source": [
    "DATA_PATH = os.path.expanduser(\"~/data1/multMyeloma/data/\")\n",
    "EHR_FILENAME = \"MMehr_data.csv\"\n",
    "ICDMAP_FILENAME = \"icd10cmtoicd9gem.csv\""
   ]
  },
  {
   "cell_type": "code",
   "execution_count": 4,
   "metadata": {},
   "outputs": [],
   "source": [
    "##Import ehr data of MM patients and conversion table from icd10 to icd9\n",
    "MMehr_data = pd.read_csv(os.path.join(DATA_PATH, EHR_FILENAME),\n",
    "                         sep=\",\",\n",
    "                         header=0,\n",
    "                         index_col=False)\n",
    "\n",
    "icd10TOicd9 = pd.read_csv(os.path.join(DATA_PATH, ICDMAP_FILENAME),\n",
    "                         sep=\",\",\n",
    "                         header=0,\n",
    "                         index_col=False)"
   ]
  },
  {
   "cell_type": "code",
   "execution_count": 5,
   "metadata": {},
   "outputs": [],
   "source": [
    "##create a dictionary {'icd10_code':'icd9_code'}\n",
    "icd10icd9_dict = {}\n",
    "\n",
    "for i, diag in enumerate(icd10TOicd9[\"icd10\"]):\n",
    "    icd10icd9_dict[diag] = icd10TOicd9[\"icd9\"][i]"
   ]
  },
  {
   "cell_type": "code",
   "execution_count": 9,
   "metadata": {},
   "outputs": [],
   "source": [
    "##map icd10 to icd9 when available\n",
    "code_list = MMehr_data[\"CODE\"].tolist()\n",
    "label_list = MMehr_data[\"CODE_LABEL\"].tolist()\n",
    "\n",
    "for i, med in enumerate(code_list):\n",
    "    if label_list[i] == \"icd10\":\n",
    "        tmp = \"\".join(str.split(med, \".\"))\n",
    "        if tmp in icd10icd9_dict:\n",
    "            trad = icd10icd9_dict[tmp]\n",
    "            if len(list(trad)) >= 4:\n",
    "                code_list[i] = ''.join(list(trad)[0:3]) + '.' + ''.join(list(trad[3:len(trad)]))\n",
    "            else:\n",
    "                code_list[i] = trad\n",
    "            label_list[i] = 'icd9'"
   ]
  },
  {
   "cell_type": "code",
   "execution_count": 10,
   "metadata": {},
   "outputs": [],
   "source": [
    "##add LABEL:CODE column and the modified columns with CODE and CODE_LABEL\n",
    "MMehr_data[\"LABEL:CODE\"] = pd.Series([label_list[i] + ':' + code_list[i] for i in range(len(code_list))])\n",
    "MMehr_data[\"CODE\"] = pd.Series(code_list)\n",
    "MMehr_data[\"CODE_LABEL\"] = pd.Series(label_list)"
   ]
  },
  {
   "cell_type": "code",
   "execution_count": 11,
   "metadata": {},
   "outputs": [],
   "source": [
    "idx = MMehr_data[\"CODE_LABEL\"] == 'icd10' ##eliminated those records in which the diagnosis could not be mapped to icd9\n",
    "MMehr_data = MMehr_data[-idx]"
   ]
  },
  {
   "cell_type": "code",
   "execution_count": 12,
   "metadata": {},
   "outputs": [],
   "source": [
    "##read annotation files and create a dictionary of dictionaries (e.g. {'cpt':{'code':[CUI, ONTOLOGY_ID, LABEL], ...}, ...}\n",
    "ann_l = {}\n",
    "for _, _, files in os.walk(DATA_PATH):\n",
    "    for f in files:\n",
    "        if re.match('annotation', f):\n",
    "            with open(os.path.join(DATA_PATH, f), newline='') as csvfile:\n",
    "                rows = csv.reader(csvfile, delimiter=',', quotechar='|')\n",
    "                d = {}\n",
    "                for row in rows:\n",
    "                    d[row[0]] = row[1:len(row)]\n",
    "                ann_l[f.split('-')[1].split('.')[0]] = d"
   ]
  },
  {
   "cell_type": "code",
   "execution_count": 42,
   "metadata": {},
   "outputs": [],
   "source": [
    "#map the codes to the normalized labels and add a new column to the dataframe\n",
    "rxnorm = []\n",
    "for lab_code in MMehr_data[\"LABEL:CODE\"]:\n",
    "    el = lab_code.split(\":\")\n",
    "    if el[1] in ann_l[el[0]]:\n",
    "        rxnorm += [ann_l[el[0]][el[1]][-1]]\n",
    "    else:\n",
    "        rxnorm += ['NA']\n",
    "        \n",
    "\n",
    "MMehr_data[\"RXNORM\"] = rxnorm"
   ]
  }
 ],
 "metadata": {
  "kernelspec": {
   "display_name": "Python 3",
   "language": "python",
   "name": "python3"
  },
  "language_info": {
   "codemirror_mode": {
    "name": "ipython",
    "version": 3
   },
   "file_extension": ".py",
   "mimetype": "text/x-python",
   "name": "python",
   "nbconvert_exporter": "python",
   "pygments_lexer": "ipython3",
   "version": "3.5.2"
  }
 },
 "nbformat": 4,
 "nbformat_minor": 2
}

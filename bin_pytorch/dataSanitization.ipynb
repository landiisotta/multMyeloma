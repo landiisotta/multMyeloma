{
 "cells": [
  {
   "cell_type": "markdown",
   "metadata": {},
   "source": [
    "# Data Preparation"
   ]
  },
  {
   "cell_type": "code",
   "execution_count": 1,
   "metadata": {},
   "outputs": [],
   "source": [
    "import pandas as pd\n",
    "import os\n",
    "import re\n",
    "import csv\n",
    "from collections import OrderedDict, defaultdict\n",
    "import random\n",
    "import torch\n",
    "from torch.utils import data\n",
    "from torch.utils.data.dataset import Dataset\n",
    "import matplotlib\n",
    "import matplotlib.pyplot as plt\n",
    "%matplotlib inline"
   ]
  },
  {
   "cell_type": "code",
   "execution_count": 2,
   "metadata": {},
   "outputs": [],
   "source": [
    "DATA_PATH = os.path.expanduser(\"~/data1/multMyeloma/data/\")\n",
    "EHR_FILENAME = \"MMehr_data.csv\""
   ]
  },
  {
   "cell_type": "markdown",
   "metadata": {},
   "source": [
    "We read the EHR .csv file with the following structure \n",
    "```\n",
    "MEDICAL_RECORD_NUMBER | CODE | CODE_LABEL | AGE_IN_DAYS | TIME_OF_DAY | VALUE | UOM | DAYS | YEAR\n",
    "```\n"
   ]
  },
  {
   "cell_type": "code",
   "execution_count": 3,
   "metadata": {},
   "outputs": [],
   "source": [
    "##Import ehr data of MM patients and conversion table from icd10 to icd9\n",
    "MMehr_data = pd.read_csv(os.path.join(DATA_PATH, EHR_FILENAME),\n",
    "                         sep=\",\",\n",
    "                         header=0,\n",
    "                         index_col=False)"
   ]
  },
  {
   "cell_type": "markdown",
   "metadata": {},
   "source": [
    "We want to combine `CODE` and `CODE_LABEL` in a unique string, e.g. `lab:xxxx`, in order to map the codes to the normalized labels (_RxNorm_)."
   ]
  },
  {
   "cell_type": "code",
   "execution_count": 4,
   "metadata": {},
   "outputs": [],
   "source": [
    "MMehr_data[\"LABEL:CODE\"] = MMehr_data[\"CODE_LABEL\"] + ':' + MMehr_data[\"CODE\"]"
   ]
  },
  {
   "cell_type": "markdown",
   "metadata": {},
   "source": [
    "We read the annotation files and create a dictionary of dictionaries `ann_dic` (e.g. {'cpt':{'code':[CUI, ONTOLOGY_ID, LABEL], ...}, ...}). "
   ]
  },
  {
   "cell_type": "code",
   "execution_count": 5,
   "metadata": {},
   "outputs": [],
   "source": [
    "ann_dic = {}\n",
    "for _, _, files in os.walk(DATA_PATH):\n",
    "    for f in files:\n",
    "        if re.match('annotation', f):\n",
    "            with open(os.path.join(DATA_PATH, f), newline='') as csvfile:\n",
    "                rows = csv.reader(csvfile, delimiter=',', quotechar='\"')\n",
    "                d = {}\n",
    "                for i, row in enumerate(rows):\n",
    "                    if i != 0:\n",
    "                        d[row[0]] = row[1:len(row)]\n",
    "                ann_dic[f.split('-')[1].split('.')[0]] = d"
   ]
  },
  {
   "cell_type": "markdown",
   "metadata": {},
   "source": [
    "The codes are mapped to the normalized labels and a new column `RXNORM` is addet to the `MMehr_data` dataframe."
   ]
  },
  {
   "cell_type": "code",
   "execution_count": 6,
   "metadata": {},
   "outputs": [],
   "source": [
    "#map the codes to the normalized labels and add a new column to the dataframe\n",
    "rxnorm = []\n",
    "for lab_code in MMehr_data[\"LABEL:CODE\"]:\n",
    "    el = lab_code.split(\":\")\n",
    "    if el[1] in ann_dic[el[0]]:\n",
    "        rxnorm += [ann_dic[el[0]][el[1]][-1]]\n",
    "    else:\n",
    "        rxnorm += ['NA']\n",
    "        \n",
    "\n",
    "MMehr_data[\"RXNORM\"] = rxnorm"
   ]
  },
  {
   "cell_type": "code",
   "execution_count": 7,
   "metadata": {},
   "outputs": [
    {
     "data": {
      "text/html": [
       "<div>\n",
       "<style scoped>\n",
       "    .dataframe tbody tr th:only-of-type {\n",
       "        vertical-align: middle;\n",
       "    }\n",
       "\n",
       "    .dataframe tbody tr th {\n",
       "        vertical-align: top;\n",
       "    }\n",
       "\n",
       "    .dataframe thead th {\n",
       "        text-align: right;\n",
       "    }\n",
       "</style>\n",
       "<table border=\"1\" class=\"dataframe\">\n",
       "  <thead>\n",
       "    <tr style=\"text-align: right;\">\n",
       "      <th></th>\n",
       "      <th>MEDICAL_RECORD_NUMBER</th>\n",
       "      <th>CODE</th>\n",
       "      <th>CODE_LABEL</th>\n",
       "      <th>AGE_IN_DAYS</th>\n",
       "      <th>TIME_OF_DAY</th>\n",
       "      <th>VALUE</th>\n",
       "      <th>UOM</th>\n",
       "      <th>DAYS</th>\n",
       "      <th>YEAR</th>\n",
       "      <th>LABEL:CODE</th>\n",
       "      <th>RXNORM</th>\n",
       "    </tr>\n",
       "  </thead>\n",
       "  <tbody>\n",
       "    <tr>\n",
       "      <th>0</th>\n",
       "      <td>1000428284</td>\n",
       "      <td>16003</td>\n",
       "      <td>cpt</td>\n",
       "      <td>28150.0</td>\n",
       "      <td>17:28</td>\n",
       "      <td>NaN</td>\n",
       "      <td>NaN</td>\n",
       "      <td>150</td>\n",
       "      <td>2002</td>\n",
       "      <td>cpt:16003</td>\n",
       "      <td>NA</td>\n",
       "    </tr>\n",
       "    <tr>\n",
       "      <th>1</th>\n",
       "      <td>1000428284</td>\n",
       "      <td>16007</td>\n",
       "      <td>cpt</td>\n",
       "      <td>28150.0</td>\n",
       "      <td>17:28</td>\n",
       "      <td>NaN</td>\n",
       "      <td>NaN</td>\n",
       "      <td>150</td>\n",
       "      <td>2002</td>\n",
       "      <td>cpt:16007</td>\n",
       "      <td>NA</td>\n",
       "    </tr>\n",
       "    <tr>\n",
       "      <th>2</th>\n",
       "      <td>1000428284</td>\n",
       "      <td>16273</td>\n",
       "      <td>cpt</td>\n",
       "      <td>28151.0</td>\n",
       "      <td>15:12</td>\n",
       "      <td>NaN</td>\n",
       "      <td>NaN</td>\n",
       "      <td>151</td>\n",
       "      <td>2002</td>\n",
       "      <td>cpt:16273</td>\n",
       "      <td>Radiopharmaceutical therapy, by oral administr...</td>\n",
       "    </tr>\n",
       "    <tr>\n",
       "      <th>3</th>\n",
       "      <td>1000428284</td>\n",
       "      <td>22923</td>\n",
       "      <td>procedure</td>\n",
       "      <td>29890.0</td>\n",
       "      <td>17:04</td>\n",
       "      <td>NaN</td>\n",
       "      <td>NaN</td>\n",
       "      <td>64</td>\n",
       "      <td>2007</td>\n",
       "      <td>procedure:22923</td>\n",
       "      <td>Bone survey complete</td>\n",
       "    </tr>\n",
       "    <tr>\n",
       "      <th>4</th>\n",
       "      <td>1000428284</td>\n",
       "      <td>22923</td>\n",
       "      <td>procedure</td>\n",
       "      <td>29891.0</td>\n",
       "      <td>09:08</td>\n",
       "      <td>NaN</td>\n",
       "      <td>NaN</td>\n",
       "      <td>65</td>\n",
       "      <td>2007</td>\n",
       "      <td>procedure:22923</td>\n",
       "      <td>Bone survey complete</td>\n",
       "    </tr>\n",
       "    <tr>\n",
       "      <th>5</th>\n",
       "      <td>1000428284</td>\n",
       "      <td>16764</td>\n",
       "      <td>cpt</td>\n",
       "      <td>29906.0</td>\n",
       "      <td>13:30</td>\n",
       "      <td>NaN</td>\n",
       "      <td>NaN</td>\n",
       "      <td>80</td>\n",
       "      <td>2007</td>\n",
       "      <td>cpt:16764</td>\n",
       "      <td>Beta-2 microglobulin</td>\n",
       "    </tr>\n",
       "    <tr>\n",
       "      <th>6</th>\n",
       "      <td>1000428284</td>\n",
       "      <td>17666</td>\n",
       "      <td>cpt</td>\n",
       "      <td>29906.0</td>\n",
       "      <td>13:30</td>\n",
       "      <td>NaN</td>\n",
       "      <td>NaN</td>\n",
       "      <td>80</td>\n",
       "      <td>2007</td>\n",
       "      <td>cpt:17666</td>\n",
       "      <td>C-reactive protein; high sensitivity (hscrp)</td>\n",
       "    </tr>\n",
       "    <tr>\n",
       "      <th>7</th>\n",
       "      <td>1000428284</td>\n",
       "      <td>17711</td>\n",
       "      <td>cpt</td>\n",
       "      <td>29906.0</td>\n",
       "      <td>13:30</td>\n",
       "      <td>NaN</td>\n",
       "      <td>NaN</td>\n",
       "      <td>80</td>\n",
       "      <td>2007</td>\n",
       "      <td>cpt:17711</td>\n",
       "      <td>Immunofixation electrophoresis; serum</td>\n",
       "    </tr>\n",
       "    <tr>\n",
       "      <th>8</th>\n",
       "      <td>1000428284</td>\n",
       "      <td>290.21</td>\n",
       "      <td>icd9</td>\n",
       "      <td>30351.0</td>\n",
       "      <td>10:01</td>\n",
       "      <td>NaN</td>\n",
       "      <td>NaN</td>\n",
       "      <td>160</td>\n",
       "      <td>2008</td>\n",
       "      <td>icd9:290.21</td>\n",
       "      <td>Senile dementia with depressive features</td>\n",
       "    </tr>\n",
       "    <tr>\n",
       "      <th>9</th>\n",
       "      <td>1000428284</td>\n",
       "      <td>296.32</td>\n",
       "      <td>icd9</td>\n",
       "      <td>30626.0</td>\n",
       "      <td>12:17</td>\n",
       "      <td>NaN</td>\n",
       "      <td>NaN</td>\n",
       "      <td>70</td>\n",
       "      <td>2009</td>\n",
       "      <td>icd9:296.32</td>\n",
       "      <td>Major depressive affective disorder, recurrent...</td>\n",
       "    </tr>\n",
       "  </tbody>\n",
       "</table>\n",
       "</div>"
      ],
      "text/plain": [
       "   MEDICAL_RECORD_NUMBER    CODE CODE_LABEL  AGE_IN_DAYS TIME_OF_DAY VALUE  \\\n",
       "0             1000428284   16003        cpt      28150.0       17:28   NaN   \n",
       "1             1000428284   16007        cpt      28150.0       17:28   NaN   \n",
       "2             1000428284   16273        cpt      28151.0       15:12   NaN   \n",
       "3             1000428284   22923  procedure      29890.0       17:04   NaN   \n",
       "4             1000428284   22923  procedure      29891.0       09:08   NaN   \n",
       "5             1000428284   16764        cpt      29906.0       13:30   NaN   \n",
       "6             1000428284   17666        cpt      29906.0       13:30   NaN   \n",
       "7             1000428284   17711        cpt      29906.0       13:30   NaN   \n",
       "8             1000428284  290.21       icd9      30351.0       10:01   NaN   \n",
       "9             1000428284  296.32       icd9      30626.0       12:17   NaN   \n",
       "\n",
       "   UOM  DAYS  YEAR       LABEL:CODE  \\\n",
       "0  NaN   150  2002        cpt:16003   \n",
       "1  NaN   150  2002        cpt:16007   \n",
       "2  NaN   151  2002        cpt:16273   \n",
       "3  NaN    64  2007  procedure:22923   \n",
       "4  NaN    65  2007  procedure:22923   \n",
       "5  NaN    80  2007        cpt:16764   \n",
       "6  NaN    80  2007        cpt:17666   \n",
       "7  NaN    80  2007        cpt:17711   \n",
       "8  NaN   160  2008      icd9:290.21   \n",
       "9  NaN    70  2009      icd9:296.32   \n",
       "\n",
       "                                              RXNORM  \n",
       "0                                                 NA  \n",
       "1                                                 NA  \n",
       "2  Radiopharmaceutical therapy, by oral administr...  \n",
       "3                               Bone survey complete  \n",
       "4                               Bone survey complete  \n",
       "5                               Beta-2 microglobulin  \n",
       "6       C-reactive protein; high sensitivity (hscrp)  \n",
       "7              Immunofixation electrophoresis; serum  \n",
       "8           Senile dementia with depressive features  \n",
       "9  Major depressive affective disorder, recurrent...  "
      ]
     },
     "execution_count": 7,
     "metadata": {},
     "output_type": "execute_result"
    }
   ],
   "source": [
    "MMehr_data.head(10)"
   ]
  },
  {
   "cell_type": "markdown",
   "metadata": {},
   "source": [
    "The codes that were not possible to map are removed."
   ]
  },
  {
   "cell_type": "code",
   "execution_count": 8,
   "metadata": {},
   "outputs": [
    {
     "name": "stdout",
     "output_type": "stream",
     "text": [
      "4913542 entries were eliminated because it was not possible to map them.\n"
     ]
    }
   ],
   "source": [
    "num_rem = MMehr_data.shape[0]\n",
    "\n",
    "idna = MMehr_data[\"RXNORM\"] == 'NA'\n",
    "MMehr_data = MMehr_data[-idna]\n",
    "MMehr_data[\"RXNORM\"] = MMehr_data[\"CODE_LABEL\"] + ':' + MMehr_data[\"RXNORM\"]\n",
    "\n",
    "print(\"{0:d} entries were eliminated because it was not possible to map them.\".format(num_rem - MMehr_data.shape[0]))"
   ]
  },
  {
   "cell_type": "markdown",
   "metadata": {},
   "source": [
    "The `filter_data` method takes as input:\n",
    "\n",
    "> `df`: a pandas dataframe;\n",
    "\n",
    "> `col_name`: the column name that is used to select the indices to eliminate;\n",
    "\n",
    "> `direction`: _greater_ or _smaller_ that indicates the direction w.r.t which we want to filter the data;\n",
    "\n",
    "> `filt`: the filter value."
   ]
  },
  {
   "cell_type": "code",
   "execution_count": 9,
   "metadata": {},
   "outputs": [],
   "source": [
    "def data_filter(df, col_name, direction, filt):\n",
    "    if direction == 'greater':\n",
    "        idx = df[col_name] > filt\n",
    "    else:\n",
    "        idx = df[col_name] < filt\n",
    "    return df[-idx]"
   ]
  },
  {
   "cell_type": "markdown",
   "metadata": {},
   "source": [
    "We eliminate the years which were wrongly set (i.e. greater than the ehr database last year) with `data_filter()`."
   ]
  },
  {
   "cell_type": "code",
   "execution_count": 10,
   "metadata": {},
   "outputs": [],
   "source": [
    "MMehr_data = data_filter(MMehr_data, \"YEAR\", 'greater', 2016)"
   ]
  },
  {
   "cell_type": "markdown",
   "metadata": {},
   "source": [
    "Now we investigate the distribution of the medical records w.r.t the years they were collected, to see if we need to set a timeframe. We generate a dictionary `year_count` with structure _{year:num}_, ordered by year."
   ]
  },
  {
   "cell_type": "code",
   "execution_count": 11,
   "metadata": {},
   "outputs": [],
   "source": [
    "yr_sum = MMehr_data[\"YEAR\"].value_counts()\n",
    "year_count = yr_sum.to_dict(into=OrderedDict)\n",
    "year_count = OrderedDict(sorted(year_count.items(), key=lambda t: t[0]))"
   ]
  },
  {
   "cell_type": "code",
   "execution_count": 12,
   "metadata": {},
   "outputs": [
    {
     "data": {
      "text/plain": [
       "<BarContainer object of 41 artists>"
      ]
     },
     "execution_count": 12,
     "metadata": {},
     "output_type": "execute_result"
    },
    {
     "data": {
      "image/png": "[encoded data removed]",
      "text/plain": [
       "<Figure size 432x288 with 1 Axes>"
      ]
     },
     "metadata": {},
     "output_type": "display_data"
    }
   ],
   "source": [
    "y = [n1 for n1, _ in year_count.items()] \n",
    "c = [n2 for _, n2 in year_count.items()]\n",
    "\n",
    "plt.bar(y, c)"
   ]
  },
  {
   "cell_type": "markdown",
   "metadata": {},
   "source": [
    "Now we want to investigate the distribution of the lengths of the records for each patients, in this way we can eliminate the patients with too few records. We create a list of lengths."
   ]
  },
  {
   "cell_type": "code",
   "execution_count": 13,
   "metadata": {},
   "outputs": [
    {
     "data": {
      "text/plain": [
       "(array([1.316e+03, 3.980e+02, 2.180e+02, 1.210e+02, 1.010e+02, 9.300e+01,\n",
       "        1.330e+02, 1.440e+02, 1.040e+02, 8.200e+01, 7.700e+01, 7.200e+01,\n",
       "        6.700e+01, 5.700e+01, 5.800e+01, 5.100e+01, 4.100e+01, 2.900e+01,\n",
       "        3.200e+01, 2.800e+01, 3.000e+01, 3.000e+01, 2.700e+01, 2.400e+01,\n",
       "        2.200e+01, 1.200e+01, 1.700e+01, 2.500e+01, 1.600e+01, 1.300e+01,\n",
       "        1.500e+01, 1.100e+01, 8.000e+00, 9.000e+00, 1.300e+01, 1.100e+01,\n",
       "        1.000e+01, 5.000e+00, 1.400e+01, 7.000e+00, 2.000e+00, 6.000e+00,\n",
       "        5.000e+00, 9.000e+00, 9.000e+00, 7.000e+00, 1.000e+00, 6.000e+00,\n",
       "        5.000e+00, 2.000e+00, 2.000e+00, 4.000e+00, 3.000e+00, 4.000e+00,\n",
       "        2.000e+00, 1.000e+00, 4.000e+00, 1.000e+00, 1.000e+00, 3.000e+00,\n",
       "        1.000e+00, 0.000e+00, 0.000e+00, 1.000e+00, 0.000e+00, 0.000e+00,\n",
       "        3.000e+00, 3.000e+00, 2.000e+00, 1.000e+00, 2.000e+00, 1.000e+00,\n",
       "        0.000e+00, 1.000e+00, 0.000e+00, 0.000e+00, 1.000e+00, 0.000e+00,\n",
       "        1.000e+00, 0.000e+00, 0.000e+00, 0.000e+00, 0.000e+00, 0.000e+00,\n",
       "        2.000e+00, 1.000e+00, 0.000e+00, 0.000e+00, 0.000e+00, 1.000e+00,\n",
       "        0.000e+00, 0.000e+00, 0.000e+00, 0.000e+00, 0.000e+00, 0.000e+00,\n",
       "        0.000e+00, 0.000e+00, 0.000e+00, 2.000e+00]),\n",
       " array([1.000000e+00, 6.607800e+02, 1.320560e+03, 1.980340e+03,\n",
       "        2.640120e+03, 3.299900e+03, 3.959680e+03, 4.619460e+03,\n",
       "        5.279240e+03, 5.939020e+03, 6.598800e+03, 7.258580e+03,\n",
       "        7.918360e+03, 8.578140e+03, 9.237920e+03, 9.897700e+03,\n",
       "        1.055748e+04, 1.121726e+04, 1.187704e+04, 1.253682e+04,\n",
       "        1.319660e+04, 1.385638e+04, 1.451616e+04, 1.517594e+04,\n",
       "        1.583572e+04, 1.649550e+04, 1.715528e+04, 1.781506e+04,\n",
       "        1.847484e+04, 1.913462e+04, 1.979440e+04, 2.045418e+04,\n",
       "        2.111396e+04, 2.177374e+04, 2.243352e+04, 2.309330e+04,\n",
       "        2.375308e+04, 2.441286e+04, 2.507264e+04, 2.573242e+04,\n",
       "        2.639220e+04, 2.705198e+04, 2.771176e+04, 2.837154e+04,\n",
       "        2.903132e+04, 2.969110e+04, 3.035088e+04, 3.101066e+04,\n",
       "        3.167044e+04, 3.233022e+04, 3.299000e+04, 3.364978e+04,\n",
       "        3.430956e+04, 3.496934e+04, 3.562912e+04, 3.628890e+04,\n",
       "        3.694868e+04, 3.760846e+04, 3.826824e+04, 3.892802e+04,\n",
       "        3.958780e+04, 4.024758e+04, 4.090736e+04, 4.156714e+04,\n",
       "        4.222692e+04, 4.288670e+04, 4.354648e+04, 4.420626e+04,\n",
       "        4.486604e+04, 4.552582e+04, 4.618560e+04, 4.684538e+04,\n",
       "        4.750516e+04, 4.816494e+04, 4.882472e+04, 4.948450e+04,\n",
       "        5.014428e+04, 5.080406e+04, 5.146384e+04, 5.212362e+04,\n",
       "        5.278340e+04, 5.344318e+04, 5.410296e+04, 5.476274e+04,\n",
       "        5.542252e+04, 5.608230e+04, 5.674208e+04, 5.740186e+04,\n",
       "        5.806164e+04, 5.872142e+04, 5.938120e+04, 6.004098e+04,\n",
       "        6.070076e+04, 6.136054e+04, 6.202032e+04, 6.268010e+04,\n",
       "        6.333988e+04, 6.399966e+04, 6.465944e+04, 6.531922e+04,\n",
       "        6.597900e+04]),\n",
       " <a list of 100 Patch objects>)"
      ]
     },
     "execution_count": 13,
     "metadata": {},
     "output_type": "execute_result"
    },
    {
     "data": {
      "image/png": "[encoded data removed]",
      "text/plain": [
       "<Figure size 432x288 with 1 Axes>"
      ]
     },
     "metadata": {},
     "output_type": "display_data"
    }
   ],
   "source": [
    "pat_num = MMehr_data[\"MEDICAL_RECORD_NUMBER\"].value_counts()\n",
    "\n",
    "plt.hist(pat_num, bins=100)"
   ]
  },
  {
   "cell_type": "markdown",
   "metadata": {},
   "source": [
    "Let's visualize the ehr length distribution selecting only the subjects with at least $k$ entries."
   ]
  },
  {
   "cell_type": "code",
   "execution_count": 14,
   "metadata": {},
   "outputs": [
    {
     "data": {
      "text/plain": [
       "(array([1.221e+03, 3.960e+02, 2.150e+02, 1.220e+02, 9.900e+01, 9.500e+01,\n",
       "        1.340e+02, 1.410e+02, 1.040e+02, 8.300e+01, 7.600e+01, 7.400e+01,\n",
       "        6.600e+01, 5.700e+01, 5.800e+01, 5.100e+01, 4.000e+01, 3.000e+01,\n",
       "        3.100e+01, 2.900e+01, 3.000e+01, 2.900e+01, 2.800e+01, 2.300e+01,\n",
       "        2.200e+01, 1.200e+01, 1.700e+01, 2.500e+01, 1.600e+01, 1.300e+01,\n",
       "        1.500e+01, 1.200e+01, 7.000e+00, 9.000e+00, 1.300e+01, 1.100e+01,\n",
       "        1.000e+01, 5.000e+00, 1.500e+01, 6.000e+00, 2.000e+00, 6.000e+00,\n",
       "        5.000e+00, 9.000e+00, 9.000e+00, 8.000e+00, 1.000e+00, 5.000e+00,\n",
       "        5.000e+00, 2.000e+00, 2.000e+00, 4.000e+00, 3.000e+00, 4.000e+00,\n",
       "        2.000e+00, 1.000e+00, 4.000e+00, 1.000e+00, 1.000e+00, 3.000e+00,\n",
       "        1.000e+00, 0.000e+00, 0.000e+00, 1.000e+00, 0.000e+00, 0.000e+00,\n",
       "        3.000e+00, 3.000e+00, 2.000e+00, 1.000e+00, 2.000e+00, 1.000e+00,\n",
       "        0.000e+00, 1.000e+00, 0.000e+00, 0.000e+00, 1.000e+00, 0.000e+00,\n",
       "        1.000e+00, 0.000e+00, 0.000e+00, 0.000e+00, 0.000e+00, 0.000e+00,\n",
       "        2.000e+00, 1.000e+00, 0.000e+00, 0.000e+00, 0.000e+00, 1.000e+00,\n",
       "        0.000e+00, 0.000e+00, 0.000e+00, 0.000e+00, 0.000e+00, 0.000e+00,\n",
       "        0.000e+00, 0.000e+00, 0.000e+00, 2.000e+00]),\n",
       " array([1.000000e+01, 6.696900e+02, 1.329380e+03, 1.989070e+03,\n",
       "        2.648760e+03, 3.308450e+03, 3.968140e+03, 4.627830e+03,\n",
       "        5.287520e+03, 5.947210e+03, 6.606900e+03, 7.266590e+03,\n",
       "        7.926280e+03, 8.585970e+03, 9.245660e+03, 9.905350e+03,\n",
       "        1.056504e+04, 1.122473e+04, 1.188442e+04, 1.254411e+04,\n",
       "        1.320380e+04, 1.386349e+04, 1.452318e+04, 1.518287e+04,\n",
       "        1.584256e+04, 1.650225e+04, 1.716194e+04, 1.782163e+04,\n",
       "        1.848132e+04, 1.914101e+04, 1.980070e+04, 2.046039e+04,\n",
       "        2.112008e+04, 2.177977e+04, 2.243946e+04, 2.309915e+04,\n",
       "        2.375884e+04, 2.441853e+04, 2.507822e+04, 2.573791e+04,\n",
       "        2.639760e+04, 2.705729e+04, 2.771698e+04, 2.837667e+04,\n",
       "        2.903636e+04, 2.969605e+04, 3.035574e+04, 3.101543e+04,\n",
       "        3.167512e+04, 3.233481e+04, 3.299450e+04, 3.365419e+04,\n",
       "        3.431388e+04, 3.497357e+04, 3.563326e+04, 3.629295e+04,\n",
       "        3.695264e+04, 3.761233e+04, 3.827202e+04, 3.893171e+04,\n",
       "        3.959140e+04, 4.025109e+04, 4.091078e+04, 4.157047e+04,\n",
       "        4.223016e+04, 4.288985e+04, 4.354954e+04, 4.420923e+04,\n",
       "        4.486892e+04, 4.552861e+04, 4.618830e+04, 4.684799e+04,\n",
       "        4.750768e+04, 4.816737e+04, 4.882706e+04, 4.948675e+04,\n",
       "        5.014644e+04, 5.080613e+04, 5.146582e+04, 5.212551e+04,\n",
       "        5.278520e+04, 5.344489e+04, 5.410458e+04, 5.476427e+04,\n",
       "        5.542396e+04, 5.608365e+04, 5.674334e+04, 5.740303e+04,\n",
       "        5.806272e+04, 5.872241e+04, 5.938210e+04, 6.004179e+04,\n",
       "        6.070148e+04, 6.136117e+04, 6.202086e+04, 6.268055e+04,\n",
       "        6.334024e+04, 6.399993e+04, 6.465962e+04, 6.531931e+04,\n",
       "        6.597900e+04]),\n",
       " <a list of 100 Patch objects>)"
      ]
     },
     "execution_count": 14,
     "metadata": {},
     "output_type": "execute_result"
    },
    {
     "data": {
      "image/png": "[encoded data removed]",
      "text/plain": [
       "<Figure size 432x288 with 1 Axes>"
      ]
     },
     "metadata": {},
     "output_type": "display_data"
    }
   ],
   "source": [
    "k = 10\n",
    "fi = pat_num < k\n",
    "plt.hist(pat_num[-fi], bins=100)"
   ]
  },
  {
   "cell_type": "markdown",
   "metadata": {},
   "source": [
    "Now we filter the records collected before 1980 with the `data_filter` function."
   ]
  },
  {
   "cell_type": "code",
   "execution_count": 15,
   "metadata": {},
   "outputs": [],
   "source": [
    "MMehr_data = data_filter(MMehr_data, \"YEAR\", 'less', 1980)"
   ]
  },
  {
   "cell_type": "markdown",
   "metadata": {},
   "source": [
    "Moreover we might want to set the minimum number of records per patient to _k_."
   ]
  },
  {
   "cell_type": "markdown",
   "metadata": {},
   "source": [
    "We join the rxnorm terms with their medical term labels. Moreover, we save the resulting dataframe to a new _.csv_ file named `MMehr_normalized`."
   ]
  },
  {
   "cell_type": "code",
   "execution_count": 16,
   "metadata": {},
   "outputs": [],
   "source": [
    "rxnorm_codes = MMehr_data[\"RXNORM\"].tolist()\n",
    "mrn = MMehr_data[\"MEDICAL_RECORD_NUMBER\"].tolist()"
   ]
  },
  {
   "cell_type": "code",
   "execution_count": 17,
   "metadata": {},
   "outputs": [],
   "source": [
    "days_list = MMehr_data[\"DAYS\"].tolist()\n",
    "year_list = MMehr_data[\"YEAR\"].tolist()\n",
    "#Write everything to a csv file with only MEDICAL_RECORD_NUMBER | RXNORM LABEL\n",
    "with open(os.path.join(DATA_PATH, 'MMehr_normalized.csv'), 'w', newline='') as csvfile:\n",
    "    normalizedData = csv.writer(csvfile, delimiter=',', quotechar='\"')\n",
    "    normalizedData.writerow([\"MRN\", \"RXNORM\", \"DAYS\", \"YEAR\"])\n",
    "    for i in range(len(rxnorm_codes)):\n",
    "        normalizedData.writerow([mrn[i], rxnorm_codes[i], days_list[i], year_list[i]])"
   ]
  },
  {
   "cell_type": "markdown",
   "metadata": {},
   "source": [
    "With `create_dict` function we return two dictionaries: `mt_to_ix` and `ix_to_mt` which map rxnorm terms to integers from $1$ to $n$ and viceversa, respectively."
   ]
  },
  {
   "cell_type": "code",
   "execution_count": 18,
   "metadata": {},
   "outputs": [],
   "source": [
    "def create_dict(listOfMedTerms): \n",
    "    mt_to_ix = {}\n",
    "    ix_to_mt = {}\n",
    "    \n",
    "    for term in listOfMedTerms:\n",
    "        if term not in mt_to_ix:\n",
    "            mt_to_ix[term] = len(mt_to_ix) + 1\n",
    "            ix_to_mt[len(ix_to_mt) + 1] = term\n",
    "    return mt_to_ix, ix_to_mt"
   ]
  },
  {
   "cell_type": "markdown",
   "metadata": {},
   "source": [
    "We create the vocabulary for the ehr data."
   ]
  },
  {
   "cell_type": "code",
   "execution_count": 19,
   "metadata": {},
   "outputs": [],
   "source": [
    "rxnorm_to_ix, ix_to_rxnorm = create_dict(rxnorm_codes)"
   ]
  },
  {
   "cell_type": "markdown",
   "metadata": {},
   "source": [
    "We create the dictionary with the ehr sequence for each patient _{mrn:[v1, v2, v3]}_."
   ]
  },
  {
   "cell_type": "code",
   "execution_count": 20,
   "metadata": {},
   "outputs": [],
   "source": [
    "patient_dict = OrderedDict()\n",
    "\n",
    "for idpat in range(len(mrn)):\n",
    "    if mrn[idpat] in patient_dict:\n",
    "        patient_dict[mrn[idpat]].append(rxnorm_codes[idpat])\n",
    "    else:\n",
    "        patient_dict[mrn[idpat]] = [rxnorm_codes[idpat]]"
   ]
  },
  {
   "cell_type": "markdown",
   "metadata": {},
   "source": [
    "We now create the list of sentences padding with initial zeros the sentences shorter than the maximum length. The correspondent medical record numbers are reported in the list `mrn_unique`."
   ]
  },
  {
   "cell_type": "code",
   "execution_count": 21,
   "metadata": {},
   "outputs": [
    {
     "name": "stdout",
     "output_type": "stream",
     "text": [
      "65979\n"
     ]
    }
   ],
   "source": [
    "max_len = 0\n",
    "for np in pat_num:\n",
    "    if np > max_len:\n",
    "        max_len = np\n",
    "print(max_len)"
   ]
  },
  {
   "cell_type": "code",
   "execution_count": 22,
   "metadata": {},
   "outputs": [],
   "source": [
    "patient_sequences = []\n",
    "mrn_unique = []\n",
    "for m, sentence in patient_dict.items():\n",
    "    pad_len = max_len - len(sentence)\n",
    "    pad = [0] * pad_len\n",
    "    patient_sequences += [pad + [rxnorm_to_ix[rxnorm_term] for rxnorm_term in sentence]]\n",
    "    mrn_unique.append(m)"
   ]
  },
  {
   "cell_type": "markdown",
   "metadata": {},
   "source": [
    "We add $0$ as the `empty` list in the vocabulary."
   ]
  },
  {
   "cell_type": "code",
   "execution_count": 23,
   "metadata": {},
   "outputs": [],
   "source": [
    "rxnorm_to_ix['empty'] = 0\n",
    "ix_to_rxnorm[0] = 'empty'"
   ]
  },
  {
   "cell_type": "markdown",
   "metadata": {},
   "source": [
    "We save the unique medical records `mrn_unique` and `patient_sequences` to _.csv_ files and the vocabularies to _.csv_ files."
   ]
  },
  {
   "cell_type": "code",
   "execution_count": 91,
   "metadata": {},
   "outputs": [],
   "source": [
    "#write to csv file\n",
    "with open(os.path.join(DATA_PATH, 'rxnorm_to_ix.csv'), 'w') as outfile:\n",
    "    file = csv.writer(outfile, delimiter=',')\n",
    "    for key, val in rxnorm_to_ix.items():\n",
    "        file.writerow([key, val])\n",
    "\n",
    "with open(os.path.join(DATA_PATH, 'ix_to_rxnorm.csv'), 'w') as outfile:\n",
    "    file = csv.writer(outfile, delimiter=',')\n",
    "    for key, val in ix_to_rxnorm.items():\n",
    "        file.writerow([key, val])\n",
    "        \n",
    "with open(os.path.join(DATA_PATH, 'mrn_unique.csv'), 'w', newline='') as outfile:\n",
    "    file = csv.writer(outfile, delimiter=',', quotechar='\"')\n",
    "    for row in mrn_unique:\n",
    "        file.writerow([row])\n",
    "\n",
    "with open(os.path.join(DATA_PATH, 'patient_sequences.csv'), 'w', newline='') as outfile:\n",
    "    file = csv.writer(outfile, delimiter=',', quotechar='\"')\n",
    "    for row in patient_sequences:\n",
    "        file.writerow(row)"
   ]
  },
  {
   "cell_type": "markdown",
   "metadata": {},
   "source": [
    "Function that removes sequences shorter than $k$."
   ]
  },
  {
   "cell_type": "code",
   "execution_count": 25,
   "metadata": {},
   "outputs": [],
   "source": [
    "def cut_ehr(med_rec, ehr, k):\n",
    "    tmp_mrn = []\n",
    "    tmp_ehr = []\n",
    "    for i, seq in enumerate(ehr):\n",
    "        count = 0\n",
    "        for j in reversed(seq):\n",
    "            if j > 0:\n",
    "                count += 1\n",
    "            else:\n",
    "                break\n",
    "        if count > k:\n",
    "            tmp_mrn.append(med_rec[i])\n",
    "            tmp_ehr += [seq]\n",
    "    return tmp_mrn, tmp_ehr"
   ]
  },
  {
   "cell_type": "code",
   "execution_count": 26,
   "metadata": {},
   "outputs": [],
   "source": [
    "mrn_cut, patient_sequences_cut = cut_ehr(mrn, patient_sequences, 10)"
   ]
  },
  {
   "cell_type": "markdown",
   "metadata": {},
   "source": [
    "Then we might want to save the cut data to _.csv_ files."
   ]
  },
  {
   "cell_type": "markdown",
   "metadata": {},
   "source": [
    "## Dataset and DataLoader\n",
    "We create two dictionaries, the first stores `{mrn:[patient_sequence]}`, the second is of the form `{'train':[mrns], 'test':[mrns]}`."
   ]
  },
  {
   "cell_type": "code",
   "execution_count": 71,
   "metadata": {},
   "outputs": [],
   "source": [
    "import pandas as pd\n",
    "import os\n",
    "import re\n",
    "import csv\n",
    "from collections import OrderedDict, defaultdict\n",
    "import random\n",
    "import numpy as np\n",
    "import torch\n",
    "from torch.utils import data\n",
    "from torch.utils.data.dataset import Dataset\n",
    "import matplotlib\n",
    "import matplotlib.pyplot as plt\n",
    "%matplotlib inline"
   ]
  },
  {
   "cell_type": "code",
   "execution_count": 28,
   "metadata": {},
   "outputs": [],
   "source": [
    "DATA_PATH = os.path.expanduser(\"~/data1/multMyeloma/data/\")\n",
    "EHR_FILENAME = \"MMehr_data.csv\""
   ]
  },
  {
   "cell_type": "code",
   "execution_count": 29,
   "metadata": {},
   "outputs": [],
   "source": [
    "with open(os.path.join(DATA_PATH, 'mrn_unique.csv'), 'r', newline='') as f1:\n",
    "    rows = csv.reader(f1, delimiter=\",\", quotechar='\"')\n",
    "    mrn_unique = [int(row[0]) for row in rows]\n",
    "\n",
    "with open(os.path.join(DATA_PATH, 'patient_sequences.csv'), 'r', newline='') as f2:\n",
    "    rows = csv.reader(f2, delimiter=',', quotechar='\"')\n",
    "    patient_sequences = []\n",
    "    for row in rows:\n",
    "        patient_sequences += [[int(row[i]) for i in range(len(row))]]"
   ]
  },
  {
   "cell_type": "code",
   "execution_count": 30,
   "metadata": {},
   "outputs": [],
   "source": [
    "ehrs = {}\n",
    "\n",
    "for idp in range(len(mrn_unique)):\n",
    "    ehrs[mrn_unique[idp]] = patient_sequences[idp]"
   ]
  },
  {
   "cell_type": "code",
   "execution_count": 55,
   "metadata": {},
   "outputs": [],
   "source": [
    "random.seed(42)\n",
    "traintest = {'train':[], 'test':[]}\n",
    "test_idx = random.sample(range(len(mrn_unique)), int(len(mrn_unique) * 0.2))\n",
    "\n",
    "for i in range(len(mrn_unique)):\n",
    "    if i in test_idx:\n",
    "        traintest['test'].append(mrn_unique[i])\n",
    "    else:\n",
    "        traintest['train'].append(mrn_unique[i])"
   ]
  },
  {
   "cell_type": "code",
   "execution_count": 57,
   "metadata": {},
   "outputs": [],
   "source": [
    "class MMdata(Dataset):\n",
    "    def __init__(self, list_mrn, dic_seq):\n",
    "        self.list_mrn = list_mrn\n",
    "        self.dic_seq = dic_seq\n",
    "        \n",
    "    def __getitem__(self, index):\n",
    "        \n",
    "        mrn_idx = self.list_mrn[index]\n",
    "        sequence = self.dic_seq[mrn_idx]\n",
    "        #sequence = torch.tensor(sequence)\n",
    "        \n",
    "        #print(type(sequence), type(mrn_idx))\n",
    "        return sequence, mrn_idx\n",
    "\n",
    "    def __len__(self):\n",
    "        return len(self.list_mrn)\n",
    "    \n",
    "def my_collate(batch):\n",
    "    data = [item[0] for item in batch]\n",
    "    data = torch.tensor(data)\n",
    "    target = [item[1] for item in batch]\n",
    "    target = torch.LongTensor(target)\n",
    "    return [data, target]"
   ]
  },
  {
   "cell_type": "code",
   "execution_count": 85,
   "metadata": {},
   "outputs": [],
   "source": [
    "# By default, each worker will have its PyTorch seed set to base_seed + worker_id, where base_seed is a long generated by main process using its RNG. \n",
    "params = {'batch_size': 32,\n",
    "          'shuffle': True}\n",
    "max_epochs = 100\n",
    "\n",
    "torch.manual_seed(12)\n",
    "torch.cuda.manual_seed(12)\n",
    "np.random.seed(12)\n",
    "random.seed(12)\n",
    "\n",
    "training_set, test_set = MMdata(traintest['train'], ehrs), MMdata(traintest['test'], ehrs)\n",
    "training_generator = data.DataLoader(training_set, **params, collate_fn=my_collate)\n",
    "test_generator = data.DataLoader(test_set, **params, collate_fn=my_collate)"
   ]
  },
  {
   "cell_type": "code",
   "execution_count": 88,
   "metadata": {},
   "outputs": [],
   "source": [
    "p = next(iter(test_generator))"
   ]
  },
  {
   "cell_type": "code",
   "execution_count": 89,
   "metadata": {},
   "outputs": [
    {
     "name": "stdout",
     "output_type": "stream",
     "text": [
      "tensor([[     0,      0,      0,  ...,   2580,   3237,   2580],\n",
      "        [     0,      0,      0,  ...,    738,   2556,    579],\n",
      "        [     0,      0,      0,  ...,     44,    108,    108],\n",
      "        ...,\n",
      "        [     0,      0,      0,  ...,   1832,    205,    208],\n",
      "        [     0,      0,      0,  ...,    281,   3006,    108],\n",
      "        [     0,      0,      0,  ...,     26,    132,    281]]) tensor([ 1.2960e+09,  1.5694e+09,  1.9464e+09,  7.7701e+08,  1.0978e+09,\n",
      "         3.1720e+09,  3.8463e+09,  3.5606e+09,  2.7958e+08,  2.3297e+09,\n",
      "         3.7287e+09,  3.0201e+09,  3.6242e+09,  1.5439e+09,  1.2946e+09,\n",
      "         3.6974e+09,  3.5635e+09,  3.4332e+09,  3.9230e+09,  2.1938e+09,\n",
      "         3.7101e+09,  3.3482e+09,  2.0676e+09,  2.0571e+09,  2.9856e+09,\n",
      "         2.0105e+09,  1.3693e+09,  1.6827e+09,  2.5847e+09,  2.6326e+09,\n",
      "         1.3653e+09,  8.2595e+08])\n"
     ]
    }
   ],
   "source": [
    "print(p[0], p[1])"
   ]
  },
  {
   "cell_type": "markdown",
   "metadata": {},
   "source": [
    "We have an input of size $(N, 1, T)$, where $N$ is the _batch size_, and $T$ is the length of the ehr sequence for all patients."
   ]
  }
 ],
 "metadata": {
  "kernelspec": {
   "display_name": "Python 3",
   "language": "python",
   "name": "python3"
  },
  "language_info": {
   "codemirror_mode": {
    "name": "ipython",
    "version": 3
   },
   "file_extension": ".py",
   "mimetype": "text/x-python",
   "name": "python",
   "nbconvert_exporter": "python",
   "pygments_lexer": "ipython3",
   "version": "3.5.2"
  }
 },
 "nbformat": 4,
 "nbformat_minor": 2
}

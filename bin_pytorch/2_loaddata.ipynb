{
 "cells": [
  {
   "cell_type": "markdown",
   "metadata": {},
   "source": [
    "# Datasets\n",
    "\n",
    "> __`torchvision`__ package with data loaders for datasets such as: Imagenet, CIFAR10, MNIST, and data transformers for images (i.e. `torchvision.datasets`, `torch.utils.data.DataLoader`). [https://pytorch.org/tutorials/beginner/data_loading_tutorial.html?highlight=torchvision]\n",
    "\n",
    "> __`torchtext`__ package consists of data processing utilities and popular datasets for NLP. [http://torchtext.readthedocs.io/en/latest/#]\n",
    "\n"
   ]
  },
  {
   "cell_type": "markdown",
   "metadata": {},
   "source": [
    "## Vision"
   ]
  },
  {
   "cell_type": "code",
   "execution_count": 1,
   "metadata": {},
   "outputs": [],
   "source": [
    "import torch\n",
    "import torchvision\n",
    "import torchvision.datasets as datasets\n",
    "import torchvision.transforms as transforms"
   ]
  },
  {
   "cell_type": "markdown",
   "metadata": {},
   "source": [
    "#### CIFAR10"
   ]
  },
  {
   "cell_type": "code",
   "execution_count": 2,
   "metadata": {},
   "outputs": [
    {
     "name": "stdout",
     "output_type": "stream",
     "text": [
      "Files already downloaded and verified\n",
      "Files already downloaded and verified\n"
     ]
    }
   ],
   "source": [
    "##Load and normalize CIFAR10 transforming them to Tensors of normalized range [-1, 1]\n",
    "##Images of size 3x32x32, 3-channel color images of 32x32 pixels in size\n",
    "transform = transforms.Compose(\n",
    "                               [transforms.ToTensor(),\n",
    "                                transforms.Normalize((0.5, 0.5, 0.5), \n",
    "                                                     (0.5, 0.5, 0.5))])\n",
    "\n",
    "trainset = datasets.CIFAR10(root='./dataCIFAR', train=True,\n",
    "                            download=True, transform=transform)\n",
    "testset = datasets.CIFAR10(root='./dataCIFAR', train=False,\n",
    "                           download=True, transform=transform)\n",
    "\n",
    "trainloader = torch.utils.data.DataLoader(trainset, batch_size=4,\n",
    "                                          shuffle=True, num_workers=2)##num_workers=subprocesses to use for data loading\n",
    "testloader = torch.utils.data.DataLoader(testset, batch_size=4,\n",
    "                                         shuffle=True, num_workers=2)\n",
    "\n",
    "classes = ('plane', 'car', 'bird', 'cat',\n",
    "           'deer', 'dog', 'frog', 'horse', \n",
    "           'ship', 'truck')"
   ]
  },
  {
   "cell_type": "code",
   "execution_count": 7,
   "metadata": {},
   "outputs": [
    {
     "name": "stdout",
     "output_type": "stream",
     "text": [
      "cat plane ship car\n"
     ]
    },
    {
     "data": {
      "image/png": "[encoded data removed]",
      "text/plain": [
       "<Figure size 432x288 with 1 Axes>"
      ]
     },
     "metadata": {},
     "output_type": "display_data"
    }
   ],
   "source": [
    "##Visualize training images\n",
    "import matplotlib.pyplot as plt\n",
    "import numpy as np\n",
    "\n",
    "##define a function to visualize images (unnormalize them first)\n",
    "def imgshow(img):\n",
    "    img = img / 2 + 0.5\n",
    "    npimg = img.numpy() ##from tensor to array\n",
    "    plt.imshow(np.transpose(npimg, (1, 2, 0)))\n",
    "    \n",
    "dataiter = iter(trainloader)\n",
    "images, labels = dataiter.next() ##get some random training images (4, i.e. batch_size)\n",
    "\n",
    "#we can also write\n",
    "#images, labels = next(iter(trainloader))\n",
    "\n",
    "#show images\n",
    "imgshow(torchvision.utils.make_grid(images))\n",
    "#print labels\n",
    "print(' '.join(classes[labels[j]] for j in range(4)))"
   ]
  },
  {
   "cell_type": "markdown",
   "metadata": {},
   "source": [
    "##### https://pytorch.org/tutorials/beginner/blitz/cifar10_tutorial.html\n",
    "\n",
    "#### MNIST"
   ]
  },
  {
   "cell_type": "code",
   "execution_count": 12,
   "metadata": {},
   "outputs": [],
   "source": [
    "##Load MNIST data\n",
    "##handwritten digits dataset\n",
    "transform = transforms.Compose([transforms.ToTensor(),\n",
    "                                transforms.Normalize((0.1307, ), \n",
    "                                                     (0.3081, ))])##m and sd of the MNIST training set\n",
    "\n",
    "trainset = datasets.MNIST(root='./dataMNIST', train=True,\n",
    "                          download=True, transform=transform)\n",
    "testset = datasets.MNIST(root='./dataMNIST', train=False,\n",
    "                         download=True, transform=transform)\n",
    "\n",
    "trainloader = torch.utils.data.DataLoader(trainset, shuffle=True, batch_size=4)\n",
    "testloader = torch.utils.data.DataLoader(testset, shuffle=True, batch_size=4)"
   ]
  },
  {
   "cell_type": "code",
   "execution_count": 27,
   "metadata": {},
   "outputs": [
    {
     "name": "stdout",
     "output_type": "stream",
     "text": [
      "3 5 6 9\n"
     ]
    },
    {
     "data": {
      "image/png": "[encoded data removed]",
      "text/plain": [
       "<Figure size 432x288 with 1 Axes>"
      ]
     },
     "metadata": {},
     "output_type": "display_data"
    }
   ],
   "source": [
    "##Visualize data\n",
    "import matplotlib.pyplot as plt\n",
    "import numpy as np\n",
    "\n",
    "def imgshow(img):\n",
    "    mean = 0.1307\n",
    "    sd = 0.3081\n",
    "    img = (img * mean) + sd\n",
    "    img = img.numpy()[0]\n",
    "    plt.imshow(img, cmap='gray')\n",
    "    \n",
    "images, labels = next(iter(trainloader))\n",
    "imgshow(torchvision.utils.make_grid(images))\n",
    "print(' '.join('%1d' % labels[i].item() for i in range(4)))"
   ]
  },
  {
   "cell_type": "markdown",
   "metadata": {},
   "source": [
    "##### (Subramanian, V. Deep Learning with PyTorch: A practical approach to building neural network models using PyTorch, 2018)\n",
    "\n",
    "<small><small> Code in the book is not really pythonic. However, it contains a useful overview of what can be done with PyTorch. </small> </small>"
   ]
  },
  {
   "cell_type": "markdown",
   "metadata": {},
   "source": [
    "## NLP"
   ]
  },
  {
   "cell_type": "markdown",
   "metadata": {},
   "source": [
    "In order to process text data, we need to convert them into numerical representations. This process, called __vectorization__ can be done:\n",
    "\n",
    "- __convert__ text into words and words into vectors;\n",
    "- __convert__ text into characters and characters into vectors;\n",
    "\n",
    "- create __n-gram__ of words and represent them as vectors.\n",
    "\n",
    "Each smaller unit of text is called __token__, hence the process of breaking a text into tokens is called __tokenization__. The most popular approaches to convert a token into a vector are: _one-hot encoding_ and _word embedding_.\n",
    "\n",
    "In one-hot encoding, each token is represented as a vector of size $N$, where $N$ is the size of the vocabulary (i.e. total number of unique words in the document). The one-hot representation of a vocabulary has dimension $|V|\\times |V|$.\n",
    "\n",
    "Word embedding is a popular way of representing text data in problems solved by deep learning algorithms. Word embedding provides a representation of a word. The dimension of the vector is a hyper-parameter set during training phase. The representation of a vocabulary becomes $|V|\\times D$, where $D$ is the dimension to be set. One way to create word embeddings is to start with dense vectors for each token containing random numbers, and then train a model such as a document classifier. Hence, the numbers representing the tokens will get adjusted such that semantically closer words will have smaller vectorial distance. "
   ]
  },
  {
   "cell_type": "code",
   "execution_count": 30,
   "metadata": {},
   "outputs": [],
   "source": [
    "import torchtext\n",
    "import torchtext.datasets as datasets\n",
    "from torchtext.vocab import GloVe\n",
    "from torchtext import data"
   ]
  },
  {
   "cell_type": "markdown",
   "metadata": {},
   "source": [
    "#### IMDB"
   ]
  },
  {
   "cell_type": "code",
   "execution_count": 58,
   "metadata": {},
   "outputs": [],
   "source": [
    "##Download the IMDB dataset and split it into train and test\n",
    "\n",
    "##setup fields (define a datatype together with instructions for converting to Tensor)\n",
    "TEXT = data.Field(lower=True, include_lengths=True, batch_first=True) \n",
    "##LOWER=lowercase the text,\n",
    "##INCLUDE_LENGTHS=if True returns a tuple of a padded minibatch \n",
    "##(i.e. all sample in the minibatch have the same length) and a list containing the lengths of each examples\n",
    "##BATCH_FIRST=produce tensor with the batch dimension first\n",
    "##FIX_LENGTH=fixed length that all examples using this field will be padded to\n",
    "LABEL = data.Field(sequential=False) \n",
    "##SEQUENTIAL=datatype does not represents sequential data"
   ]
  },
  {
   "cell_type": "code",
   "execution_count": 59,
   "metadata": {},
   "outputs": [],
   "source": [
    "##make splits for data \n",
    "train, test = datasets.IMDB.splits(TEXT, LABEL)\n",
    "##build the vocabulary\n",
    "TEXT.build_vocab(train, vectors=GloVe(name='6B', dim=300)) ##build vocabulary with available pretrained vectors\n",
    "LABEL.build_vocab(train)\n",
    "\n",
    "##SPLIT APPROACH\n",
    "train_iter, test_iter = data.BucketIterator.splits((train, test),\n",
    "                                                    batch_size=4, device=0)\n",
    "\n",
    "##ITERS APPROACH\n",
    "#train_iter, test_iter = datasets.IMDB.iters(batch_size=4)"
   ]
  },
  {
   "cell_type": "markdown",
   "metadata": {},
   "source": [
    "The vocabulary class (e.g. `TEXT.vocab` instance in this case) has three attributes: `freqs`, `stoi`, `itos`. `freqs` holds the frequencies of tokens in the data used to build the vocabulary. `stoi` stores the instance mapping token strings to numerical identifiers. `itos` stores a list of token strings indexed by their numerical identifiers.\n",
    "\n",
    "GloVe stands for _Global Vector for word representation_ (Pennington, J., et al. 2014) and it is an alternative to Word2vec based on global counts of words across the corpus. What we are using here is one of the multiple sets of pre-trained vectors that are available for download. In building the vocabulary the `vectors` parameter can be instantized with a list of pretrained vectors."
   ]
  }
 ],
 "metadata": {
  "kernelspec": {
   "display_name": "Python 3",
   "language": "python",
   "name": "python3"
  },
  "language_info": {
   "codemirror_mode": {
    "name": "ipython",
    "version": 3
   },
   "file_extension": ".py",
   "mimetype": "text/x-python",
   "name": "python",
   "nbconvert_exporter": "python",
   "pygments_lexer": "ipython3",
   "version": "3.5.2"
  }
 },
 "nbformat": 4,
 "nbformat_minor": 2
}

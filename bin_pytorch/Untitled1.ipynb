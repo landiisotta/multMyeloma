{
 "cells": [
  {
   "cell_type": "markdown",
   "metadata": {},
   "source": [
    "# EHR sequences visualization"
   ]
  },
  {
   "cell_type": "code",
   "execution_count": 86,
   "metadata": {},
   "outputs": [],
   "source": [
    "import os\n",
    "import csv\n",
    "import json\n",
    "import pandas as pd \n",
    "import re"
   ]
  },
  {
   "cell_type": "code",
   "execution_count": 1,
   "metadata": {},
   "outputs": [],
   "source": [
    "DATA_PATH = os.path.expanduser('~/data1/multMyeloma/data')\n",
    "\n",
    "##Prepare the batches with data from the vocabulary of rxnorm terms\n",
    "##read the file csv with the rxnorm data and create the vocabulary\n",
    "patient_dict = {}\n",
    "rxnorm_codes = []\n",
    "with open(os.path.join(DATA_PATH, 'normalized_MMehr.csv'), newline='') as csvfile:\n",
    "    rows = csv.reader(csvfile, delimiter=',', quotechar='\"')\n",
    "    for el in rows:\n",
    "        rxnorm_codes.append(el[1])\n",
    "        if el[0] in patient_dict:\n",
    "            patient_dict[el[0]].append(el[1])\n",
    "        else:\n",
    "            patient_dict[el[0]] = [el[1]]\n",
    "\n",
    "def create_dict(listOfMedTerms): \n",
    "    mt_to_ix = {}\n",
    "    ix_to_mt = {}\n",
    "    \n",
    "    for term in listOfMedTerms:\n",
    "        if term not in mt_to_ix:\n",
    "            mt_to_ix[term] = len(mt_to_ix)\n",
    "            ix_to_mt[len(ix_to_mt)] = term\n",
    "    return mt_to_ix, ix_to_mt\n",
    "\n",
    "rxnorm_to_ix, ix_to_rxnorm = create_dict(rxnorm_codes)\n",
    "\n",
    "##select the sequences with length greater equal than 100\n",
    "##create patient sequences of different lengths\n",
    "patient_sequences = []\n",
    "for _, sentence in patient_dict.items():\n",
    "    if len(sentence) >= 1:\n",
    "        patient_sequences += [[rxnorm_to_ix[rxnorm_term] for rxnorm_term in sentence]]\n",
    "        \n",
    "with open(os.path.join(DATA_PATH, 'patient_sequences.json'), 'w') as f:\n",
    "    json.dump(patient_sequences, f)"
   ]
  },
  {
   "cell_type": "code",
   "execution_count": 45,
   "metadata": {},
   "outputs": [],
   "source": [
    "import matplotlib\n",
    "import matplotlib.pyplot as plt \n",
    "%matplotlib inline"
   ]
  },
  {
   "cell_type": "code",
   "execution_count": 3,
   "metadata": {},
   "outputs": [],
   "source": [
    "lengths = []\n",
    "for seq in patient_sequences:\n",
    "    lengths.append(len(seq))"
   ]
  },
  {
   "cell_type": "code",
   "execution_count": 9,
   "metadata": {},
   "outputs": [
    {
     "data": {
      "text/plain": [
       "(array([1.316e+03, 3.980e+02, 2.180e+02, 1.210e+02, 1.010e+02, 9.300e+01,\n",
       "        1.330e+02, 1.420e+02, 1.060e+02, 8.200e+01, 7.700e+01, 7.100e+01,\n",
       "        6.800e+01, 5.700e+01, 5.800e+01, 5.100e+01, 4.100e+01, 2.900e+01,\n",
       "        3.200e+01, 2.800e+01, 3.000e+01, 3.000e+01, 2.700e+01, 2.400e+01,\n",
       "        2.200e+01, 1.200e+01, 1.700e+01, 2.500e+01, 1.600e+01, 1.300e+01,\n",
       "        1.500e+01, 1.100e+01, 8.000e+00, 9.000e+00, 1.300e+01, 1.100e+01,\n",
       "        1.000e+01, 5.000e+00, 1.400e+01, 7.000e+00, 2.000e+00, 6.000e+00,\n",
       "        5.000e+00, 9.000e+00, 9.000e+00, 8.000e+00, 0.000e+00, 6.000e+00,\n",
       "        5.000e+00, 2.000e+00, 2.000e+00, 4.000e+00, 3.000e+00, 4.000e+00,\n",
       "        2.000e+00, 1.000e+00, 4.000e+00, 1.000e+00, 2.000e+00, 2.000e+00,\n",
       "        1.000e+00, 0.000e+00, 0.000e+00, 1.000e+00, 0.000e+00, 0.000e+00,\n",
       "        3.000e+00, 3.000e+00, 2.000e+00, 1.000e+00, 2.000e+00, 1.000e+00,\n",
       "        0.000e+00, 1.000e+00, 0.000e+00, 0.000e+00, 1.000e+00, 0.000e+00,\n",
       "        1.000e+00, 0.000e+00, 0.000e+00, 0.000e+00, 0.000e+00, 0.000e+00,\n",
       "        2.000e+00, 1.000e+00, 0.000e+00, 0.000e+00, 0.000e+00, 1.000e+00,\n",
       "        0.000e+00, 0.000e+00, 0.000e+00, 0.000e+00, 0.000e+00, 0.000e+00,\n",
       "        0.000e+00, 0.000e+00, 0.000e+00, 2.000e+00]),\n",
       " array([1.00000e+00, 6.60700e+02, 1.32040e+03, 1.98010e+03, 2.63980e+03,\n",
       "        3.29950e+03, 3.95920e+03, 4.61890e+03, 5.27860e+03, 5.93830e+03,\n",
       "        6.59800e+03, 7.25770e+03, 7.91740e+03, 8.57710e+03, 9.23680e+03,\n",
       "        9.89650e+03, 1.05562e+04, 1.12159e+04, 1.18756e+04, 1.25353e+04,\n",
       "        1.31950e+04, 1.38547e+04, 1.45144e+04, 1.51741e+04, 1.58338e+04,\n",
       "        1.64935e+04, 1.71532e+04, 1.78129e+04, 1.84726e+04, 1.91323e+04,\n",
       "        1.97920e+04, 2.04517e+04, 2.11114e+04, 2.17711e+04, 2.24308e+04,\n",
       "        2.30905e+04, 2.37502e+04, 2.44099e+04, 2.50696e+04, 2.57293e+04,\n",
       "        2.63890e+04, 2.70487e+04, 2.77084e+04, 2.83681e+04, 2.90278e+04,\n",
       "        2.96875e+04, 3.03472e+04, 3.10069e+04, 3.16666e+04, 3.23263e+04,\n",
       "        3.29860e+04, 3.36457e+04, 3.43054e+04, 3.49651e+04, 3.56248e+04,\n",
       "        3.62845e+04, 3.69442e+04, 3.76039e+04, 3.82636e+04, 3.89233e+04,\n",
       "        3.95830e+04, 4.02427e+04, 4.09024e+04, 4.15621e+04, 4.22218e+04,\n",
       "        4.28815e+04, 4.35412e+04, 4.42009e+04, 4.48606e+04, 4.55203e+04,\n",
       "        4.61800e+04, 4.68397e+04, 4.74994e+04, 4.81591e+04, 4.88188e+04,\n",
       "        4.94785e+04, 5.01382e+04, 5.07979e+04, 5.14576e+04, 5.21173e+04,\n",
       "        5.27770e+04, 5.34367e+04, 5.40964e+04, 5.47561e+04, 5.54158e+04,\n",
       "        5.60755e+04, 5.67352e+04, 5.73949e+04, 5.80546e+04, 5.87143e+04,\n",
       "        5.93740e+04, 6.00337e+04, 6.06934e+04, 6.13531e+04, 6.20128e+04,\n",
       "        6.26725e+04, 6.33322e+04, 6.39919e+04, 6.46516e+04, 6.53113e+04,\n",
       "        6.59710e+04]),\n",
       " <a list of 100 Patch objects>)"
      ]
     },
     "execution_count": 9,
     "metadata": {},
     "output_type": "execute_result"
    },
    {
     "data": {
      "image/png": "[encoded data removed]",
      "text/plain": [
       "<Figure size 432x288 with 1 Axes>"
      ]
     },
     "metadata": {},
     "output_type": "display_data"
    }
   ],
   "source": [
    "##visualize the sequence lengths distribution\n",
    "plt.hist(lengths, bins=100)"
   ]
  },
  {
   "cell_type": "code",
   "execution_count": 78,
   "metadata": {},
   "outputs": [],
   "source": [
    "DATA_PATH = os.path.expanduser(\"~/data1/multMyeloma/data/\")\n",
    "EHR_FILENAME = \"MMehr_data.csv\"\n",
    "ICDMAP_FILENAME = \"icd10cmtoicd9gem.csv\""
   ]
  },
  {
   "cell_type": "code",
   "execution_count": 14,
   "metadata": {},
   "outputs": [],
   "source": [
    "MMehr_data = pd.read_csv(os.path.join(DATA_PATH, EHR_FILENAME),\n",
    "                         sep=\",\",\n",
    "                         header=0,\n",
    "                         index_col=False)"
   ]
  },
  {
   "cell_type": "code",
   "execution_count": 40,
   "metadata": {},
   "outputs": [],
   "source": [
    "y_num = MMehr_data[\"YEAR\"].value_counts()"
   ]
  },
  {
   "cell_type": "code",
   "execution_count": 43,
   "metadata": {},
   "outputs": [],
   "source": [
    "year_count = y_num.to_dict()"
   ]
  },
  {
   "cell_type": "code",
   "execution_count": 44,
   "metadata": {},
   "outputs": [
    {
     "data": {
      "text/plain": [
       "{1961: 2,\n",
       " 1970: 1,\n",
       " 1971: 1,\n",
       " 1972: 1,\n",
       " 1975: 1,\n",
       " 1976: 1,\n",
       " 1977: 1,\n",
       " 1980: 2,\n",
       " 1981: 3,\n",
       " 1982: 4,\n",
       " 1983: 1,\n",
       " 1984: 1,\n",
       " 1986: 1,\n",
       " 1988: 1,\n",
       " 1989: 5,\n",
       " 1990: 2,\n",
       " 1991: 3,\n",
       " 1992: 3,\n",
       " 1993: 2,\n",
       " 1994: 1,\n",
       " 1995: 10,\n",
       " 1996: 5,\n",
       " 1997: 10,\n",
       " 1998: 7,\n",
       " 1999: 7,\n",
       " 2000: 699,\n",
       " 2001: 3970,\n",
       " 2002: 6893,\n",
       " 2003: 436643,\n",
       " 2004: 446259,\n",
       " 2005: 688183,\n",
       " 2006: 635236,\n",
       " 2007: 740865,\n",
       " 2008: 844296,\n",
       " 2009: 978500,\n",
       " 2010: 1979322,\n",
       " 2011: 3116869,\n",
       " 2012: 3464375,\n",
       " 2013: 4058059,\n",
       " 2014: 4983015,\n",
       " 2015: 967191,\n",
       " 2016: 7132,\n",
       " 2019: 2,\n",
       " 2026: 1,\n",
       " 2031: 2,\n",
       " 2041: 1,\n",
       " 2501: 14}"
      ]
     },
     "execution_count": 44,
     "metadata": {},
     "output_type": "execute_result"
    }
   ],
   "source": [
    "year_count"
   ]
  },
  {
   "cell_type": "code",
   "execution_count": 72,
   "metadata": {},
   "outputs": [],
   "source": [
    "idx = (MMehr_data[\"YEAR\"] <= 1980)"
   ]
  },
  {
   "cell_type": "code",
   "execution_count": 73,
   "metadata": {},
   "outputs": [],
   "source": [
    "MMehr_rid = MMehr_data[-idx]"
   ]
  },
  {
   "cell_type": "code",
   "execution_count": 74,
   "metadata": {},
   "outputs": [],
   "source": [
    "idx2 = MMehr_rid[\"YEAR\"] > 2016"
   ]
  },
  {
   "cell_type": "code",
   "execution_count": 76,
   "metadata": {},
   "outputs": [],
   "source": [
    "MMehr_rid = MMehr_rid[-idx2]"
   ]
  },
  {
   "cell_type": "code",
   "execution_count": null,
   "metadata": {},
   "outputs": [],
   "source": []
  },
  {
   "cell_type": "code",
   "execution_count": 79,
   "metadata": {},
   "outputs": [],
   "source": [
    "##Import ehr data of MM patients and conversion table from icd10 to icd\n",
    "icd10TOicd9 = pd.read_csv(os.path.join(DATA_PATH, ICDMAP_FILENAME),\n",
    "                         sep=\",\",\n",
    "                         header=0,\n",
    "                         index_col=False)"
   ]
  },
  {
   "cell_type": "code",
   "execution_count": 80,
   "metadata": {},
   "outputs": [],
   "source": [
    "##create a dictionary {'icd10_code':'icd9_code'}\n",
    "icd10icd9_dict = {}\n",
    "\n",
    "for i, diag in enumerate(icd10TOicd9[\"icd10\"]):\n",
    "    icd10icd9_dict[diag] = icd10TOicd9[\"icd9\"][i]"
   ]
  },
  {
   "cell_type": "code",
   "execution_count": 82,
   "metadata": {},
   "outputs": [],
   "source": [
    "##map icd10 to icd9 when available\n",
    "code_list = MMehr_rid[\"CODE\"].tolist()\n",
    "label_list = MMehr_rid[\"CODE_LABEL\"].tolist()\n",
    "\n",
    "for i, med in enumerate(code_list):\n",
    "    if label_list[i] == \"icd10\":\n",
    "        tmp = \"\".join(str.split(med, \".\"))\n",
    "        if tmp in icd10icd9_dict:\n",
    "            trad = icd10icd9_dict[tmp]\n",
    "            if len(list(trad)) >= 4:\n",
    "                code_list[i] = ''.join(list(trad)[0:3]) + '.' + ''.join(list(trad[3:len(trad)]))\n",
    "            else:\n",
    "                code_list[i] = trad\n",
    "            label_list[i] = 'icd9'"
   ]
  },
  {
   "cell_type": "code",
   "execution_count": 97,
   "metadata": {},
   "outputs": [],
   "source": [
    "##add LABEL:CODE column and the modified columns with CODE and CODE_LABEL\n",
    "MMehr_rid[\"LABEL:CODE\"] = pd.Series([label_list[i] + ':' + code_list[i] for i in range(len(code_list))], dtype=str)\n",
    "MMehr_rid[\"CODE\"] = pd.Series(code_list)\n",
    "MMehr_rid[\"CODE_LABEL\"] = pd.Series(label_list)"
   ]
  },
  {
   "cell_type": "code",
   "execution_count": 98,
   "metadata": {},
   "outputs": [],
   "source": [
    "idx = MMehr_rid[\"CODE_LABEL\"] == 'icd10' ##eliminated those records in which the diagnosis could not be mapped to icd9\n",
    "MMehr_rid = MMehr_rid[-idx]"
   ]
  },
  {
   "cell_type": "code",
   "execution_count": 99,
   "metadata": {},
   "outputs": [],
   "source": [
    "##read annotation files and create a dictionary of dictionaries (e.g. {'cpt':{'code':[CUI, ONTOLOGY_ID, LABEL], ...}, ...}\n",
    "ann_l = {}\n",
    "for _, _, files in os.walk(DATA_PATH):\n",
    "    for f in files:\n",
    "        if re.match('annotation', f):\n",
    "            with open(os.path.join(DATA_PATH, f), newline='') as csvfile:\n",
    "                rows = csv.reader(csvfile, delimiter=',', quotechar='\"')\n",
    "                d = {}\n",
    "                for row in rows:\n",
    "                    d[row[0]] = row[1:len(row)]\n",
    "                ann_l[f.split('-')[1].split('.')[0]] = d"
   ]
  },
  {
   "cell_type": "code",
   "execution_count": 101,
   "metadata": {},
   "outputs": [
    {
     "ename": "AttributeError",
     "evalue": "'float' object has no attribute 'split'",
     "output_type": "error",
     "traceback": [
      "\u001b[0;31m---------------------------------------------------------------------------\u001b[0m",
      "\u001b[0;31mAttributeError\u001b[0m                            Traceback (most recent call last)",
      "\u001b[0;32m<ipython-input-101-1961f85eb2f0>\u001b[0m in \u001b[0;36m<module>\u001b[0;34m()\u001b[0m\n\u001b[1;32m      2\u001b[0m \u001b[0mrxnorm\u001b[0m \u001b[0;34m=\u001b[0m \u001b[0;34m[\u001b[0m\u001b[0;34m]\u001b[0m\u001b[0;34m\u001b[0m\u001b[0m\n\u001b[1;32m      3\u001b[0m \u001b[0;32mfor\u001b[0m \u001b[0mlab_code\u001b[0m \u001b[0;32min\u001b[0m \u001b[0mMMehr_rid\u001b[0m\u001b[0;34m[\u001b[0m\u001b[0;34m\"LABEL:CODE\"\u001b[0m\u001b[0;34m]\u001b[0m\u001b[0;34m:\u001b[0m\u001b[0;34m\u001b[0m\u001b[0m\n\u001b[0;32m----> 4\u001b[0;31m     \u001b[0mel\u001b[0m \u001b[0;34m=\u001b[0m \u001b[0mlab_code\u001b[0m\u001b[0;34m.\u001b[0m\u001b[0msplit\u001b[0m\u001b[0;34m(\u001b[0m\u001b[0;34m\":\"\u001b[0m\u001b[0;34m)\u001b[0m\u001b[0;34m\u001b[0m\u001b[0m\n\u001b[0m\u001b[1;32m      5\u001b[0m     \u001b[0;32mif\u001b[0m \u001b[0mel\u001b[0m\u001b[0;34m[\u001b[0m\u001b[0;36m1\u001b[0m\u001b[0;34m]\u001b[0m \u001b[0;32min\u001b[0m \u001b[0mann_l\u001b[0m\u001b[0;34m[\u001b[0m\u001b[0mel\u001b[0m\u001b[0;34m[\u001b[0m\u001b[0;36m0\u001b[0m\u001b[0;34m]\u001b[0m\u001b[0;34m]\u001b[0m\u001b[0;34m:\u001b[0m\u001b[0;34m\u001b[0m\u001b[0m\n\u001b[1;32m      6\u001b[0m         \u001b[0mrxnorm\u001b[0m \u001b[0;34m+=\u001b[0m \u001b[0;34m[\u001b[0m\u001b[0mann_l\u001b[0m\u001b[0;34m[\u001b[0m\u001b[0mel\u001b[0m\u001b[0;34m[\u001b[0m\u001b[0;36m0\u001b[0m\u001b[0;34m]\u001b[0m\u001b[0;34m]\u001b[0m\u001b[0;34m[\u001b[0m\u001b[0mel\u001b[0m\u001b[0;34m[\u001b[0m\u001b[0;36m1\u001b[0m\u001b[0;34m]\u001b[0m\u001b[0;34m]\u001b[0m\u001b[0;34m[\u001b[0m\u001b[0;34m-\u001b[0m\u001b[0;36m1\u001b[0m\u001b[0;34m]\u001b[0m\u001b[0;34m]\u001b[0m\u001b[0;34m\u001b[0m\u001b[0m\n",
      "\u001b[0;31mAttributeError\u001b[0m: 'float' object has no attribute 'split'"
     ]
    }
   ],
   "source": [
    "#map the codes to the normalized labels and add a new column to the dataframe\n",
    "rxnorm = []\n",
    "for lab_code in MMehr_rid[\"LABEL:CODE\"]:\n",
    "    el = lab_code.split(\":\")\n",
    "    if el[1] in ann_l[el[0]]:\n",
    "        rxnorm += [ann_l[el[0]][el[1]][-1]]\n",
    "    else:\n",
    "        rxnorm += ['NA']\n",
    "        \n",
    "\n",
    "MMehr_tmp[\"RXNORM\"] = rxnorm"
   ]
  },
  {
   "cell_type": "code",
   "execution_count": 111,
   "metadata": {},
   "outputs": [],
   "source": [
    "##eliminate NA labels\n",
    "idna = MMehr_rid[\"RXNORM\"] == 'NA'\n",
    "MMehr_rid = MMehr_rid[-idna]\n",
    "\n",
    "##54061535 records eliminated"
   ]
  },
  {
   "cell_type": "code",
   "execution_count": 112,
   "metadata": {},
   "outputs": [],
   "source": [
    "mrn_list = MMehr_tmp[\"MEDICAL_RECORD_NUMBER\"].tolist()\n",
    "rxnorm_list = MMehr_tmp[\"RXNORM\"].tolist()"
   ]
  },
  {
   "cell_type": "code",
   "execution_count": 114,
   "metadata": {},
   "outputs": [],
   "source": [
    "#Write everything to a csv file with only MEDICAL_RECORD_NUMBER | RXNORM LABEL\n",
    "with open(os.path.join(DATA_PATH, 'normalized_MMehrTmp.csv'), 'w', newline='') as csvfile:\n",
    "    normalizedData = csv.writer(csvfile, delimiter=',', quotechar='\"')\n",
    "    for i in range(len(rxnorm_list)):\n",
    "        normalizedData.writerow([mrn_list[i], rxnorm_list[i]])\n"
   ]
  },
  {
   "cell_type": "code",
   "execution_count": 1,
   "metadata": {},
   "outputs": [],
   "source": [
    "import torch\n",
    "import torch.nn as nn"
   ]
  },
  {
   "cell_type": "code",
   "execution_count": 2,
   "metadata": {},
   "outputs": [],
   "source": [
    "ohemb = torch.LongTensor([[0,0,1], [0,1,0], [1,0,0]])\n",
    "\n",
    "emb = nn.Embedding(num_embeddings=3,embedding_dim=5, padding_idx=0)\n",
    "\n",
    "out = emb(ohemb)"
   ]
  },
  {
   "cell_type": "code",
   "execution_count": 3,
   "metadata": {},
   "outputs": [
    {
     "data": {
      "text/plain": [
       "tensor([[[ 0.0000,  0.0000,  0.0000,  0.0000,  0.0000],\n",
       "         [ 0.0000,  0.0000,  0.0000,  0.0000,  0.0000],\n",
       "         [-0.1823, -2.5362,  0.0447, -0.7248, -1.5738]],\n",
       "\n",
       "        [[ 0.0000,  0.0000,  0.0000,  0.0000,  0.0000],\n",
       "         [-0.1823, -2.5362,  0.0447, -0.7248, -1.5738],\n",
       "         [ 0.0000,  0.0000,  0.0000,  0.0000,  0.0000]],\n",
       "\n",
       "        [[-0.1823, -2.5362,  0.0447, -0.7248, -1.5738],\n",
       "         [ 0.0000,  0.0000,  0.0000,  0.0000,  0.0000],\n",
       "         [ 0.0000,  0.0000,  0.0000,  0.0000,  0.0000]]])"
      ]
     },
     "execution_count": 3,
     "metadata": {},
     "output_type": "execute_result"
    }
   ],
   "source": [
    "out"
   ]
  },
  {
   "cell_type": "code",
   "execution_count": 4,
   "metadata": {},
   "outputs": [],
   "source": [
    "loss = nn.CrossEntropyLoss()\n",
    "input = torch.randn(3, 5, requires_grad=True)\n",
    "target = torch.empty(3, dtype=torch.long).random_(5)\n",
    "output = loss(input, target)\n",
    "output.backward()"
   ]
  },
  {
   "cell_type": "code",
   "execution_count": 5,
   "metadata": {},
   "outputs": [
    {
     "data": {
      "text/plain": [
       "tensor(0.9358)"
      ]
     },
     "execution_count": 5,
     "metadata": {},
     "output_type": "execute_result"
    }
   ],
   "source": [
    "output"
   ]
  },
  {
   "cell_type": "code",
   "execution_count": 6,
   "metadata": {},
   "outputs": [
    {
     "data": {
      "text/plain": [
       "tensor([[-0.2239,  2.0010, -1.5064,  0.1219,  0.7577],\n",
       "        [ 0.6385, -0.4083,  1.3763, -1.2596, -0.6130],\n",
       "        [-1.3997,  0.9666, -1.8931, -0.5839,  1.7356]])"
      ]
     },
     "execution_count": 6,
     "metadata": {},
     "output_type": "execute_result"
    }
   ],
   "source": [
    "input"
   ]
  },
  {
   "cell_type": "code",
   "execution_count": 7,
   "metadata": {},
   "outputs": [
    {
     "data": {
      "text/plain": [
       "tensor([ 4,  2,  4])"
      ]
     },
     "execution_count": 7,
     "metadata": {},
     "output_type": "execute_result"
    }
   ],
   "source": [
    "target"
   ]
  },
  {
   "cell_type": "code",
   "execution_count": null,
   "metadata": {},
   "outputs": [],
   "source": []
  }
 ],
 "metadata": {
  "kernelspec": {
   "display_name": "Python 3",
   "language": "python",
   "name": "python3"
  },
  "language_info": {
   "codemirror_mode": {
    "name": "ipython",
    "version": 3
   },
   "file_extension": ".py",
   "mimetype": "text/x-python",
   "name": "python",
   "nbconvert_exporter": "python",
   "pygments_lexer": "ipython3",
   "version": "3.5.2"
  }
 },
 "nbformat": 4,
 "nbformat_minor": 2
}
